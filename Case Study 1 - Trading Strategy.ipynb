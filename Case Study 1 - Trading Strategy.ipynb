{
 "cells": [
  {
   "cell_type": "code",
   "execution_count": 4,
   "metadata": {},
   "outputs": [],
   "source": [
    "%matplotlib inline\n",
    "import pandas as pd\n",
    "import numpy as np\n",
    "import matplotlib.pyplot as plt\n",
    "from circuit_breaker.cb import cb\n",
    "from scipy.stats import norm\n",
    "from sklearn.linear_model import LinearRegression\n",
    "from time import time"
   ]
  },
  {
   "cell_type": "markdown",
   "metadata": {},
   "source": [
    "# Performance Metrics"
   ]
  },
  {
   "cell_type": "code",
   "execution_count": 5,
   "metadata": {},
   "outputs": [],
   "source": [
    "def rmse(yobs, yhat):\n",
    "    return np.sqrt(np.mean((yobs-yhat) ** 2.0))\n",
    "\n",
    "def sharpe(ret_obs, signal, benchmark=0):\n",
    "    strat_return = ret_obs*signal - benchmark\n",
    "    return np.mean(strat_return)/np.std(strat_return) * np.sqrt(252)"
   ]
  },
  {
   "cell_type": "markdown",
   "metadata": {},
   "source": [
    "# Utils"
   ]
  },
  {
   "cell_type": "code",
   "execution_count": 6,
   "metadata": {},
   "outputs": [],
   "source": [
    "def ts_df(ts, lags):\n",
    "    df = pd.DataFrame(index=ts.index, columns=[\"lag_\" + str(x) for x in range(lags+1)])\n",
    "    for i in range(lags+1):\n",
    "        df[\"lag_\" + str(i)] = ts.shift(i)\n",
    "\n",
    "    return df.dropna()"
   ]
  },
  {
   "cell_type": "markdown",
   "metadata": {},
   "source": [
    "# Initial Setup"
   ]
  },
  {
   "cell_type": "code",
   "execution_count": 8,
   "metadata": {},
   "outputs": [],
   "source": [
    "def plot_perf(results, method, axs=[False]):\n",
    "    if not np.any(axs):\n",
    "        fig, axs = plt.subplots(1, 2, figsize=(15,4))        \n",
    "        axs[0].set_title('Error')\n",
    "        axs[0].set_xlabel('Time')\n",
    "        axs[1].set_title('Sharpe')\n",
    "        axs[1].set_xlabel('Time')\n",
    "        \n",
    "    error = list(map(rmse, results['Obs'].values, results['Pred'].values))\n",
    "    axs[0].bar(pd.to_datetime(results.index), error, label=method)\n",
    "    axs[0].legend()\n",
    "    \n",
    "    axs[1].bar(pd.to_datetime(results.index), results['Sharpe'], label=method)\n",
    "    axs[1].legend()\n",
    "    \n",
    "    if np.any(axs):\n",
    "        plt.show()\n",
    "    \n",
    "    return axs"
   ]
  },
  {
   "cell_type": "code",
   "execution_count": 9,
   "metadata": {},
   "outputs": [],
   "source": [
    "def train_strat(trad_strat, data, warmup, test_size=1):\n",
    "    train_data = data[:warmup]\n",
    "    test_data = data[warmup:]\n",
    "    results = pd.DataFrame(index=test_data.index, columns=[\"Step\", \"Obs\", \"Pred\"]\\\n",
    "                           + perf_metrics_labels)\n",
    "    k = 0\n",
    "\n",
    "    while test_data.shape[0] != 0:\n",
    "        # index test\n",
    "        test_index = test_data.index[:test_size]\n",
    "\n",
    "        # train model\n",
    "        trad_strat.fit(train_data.drop(labels=output_label, axis=1),\\\n",
    "                       train_data[[output_label]])\n",
    "        train_obs = train_data[output_label].values\n",
    "        train_pred = trad_strat.predict(train_data.drop(labels=output_label, axis=1))\n",
    "\n",
    "        # train metrics\n",
    "        for (pf, pf_label) in zip(perf_metrics_funcs, perf_metrics_labels):\n",
    "            results.loc[test_index, pf_label] = pf(train_obs, train_pred)\n",
    "\n",
    "        # test model\n",
    "        test_pred = trad_strat.predict(test_data.iloc[:test_size].\\\n",
    "                                       drop(labels=output_label, axis=1)) \n",
    "        results.loc[test_index, \"Pred\"] = test_pred\n",
    "        test_obs = test_data.iloc[:test_size][output_label]\n",
    "        results.loc[test_index, \"Obs\"] = test_obs.values\n",
    "\n",
    "        # update data\n",
    "        results.loc[k, \"Step\"] = k\n",
    "        train_data = pd.concat([train_data, test_data.iloc[:test_size].copy()])\n",
    "        train_data = train_data.iloc[stride_size:].copy()\n",
    "        test_data = test_data.iloc[test_size:].copy()\n",
    "        k += 1\n",
    "\n",
    "        print(k, test_data.shape[0])\n",
    "    \n",
    "    return results"
   ]
  },
  {
   "cell_type": "code",
   "execution_count": 10,
   "metadata": {},
   "outputs": [],
   "source": [
    "def train_detection(data, method, cb = trading_cb, bootstrap_n = 500, k = 3):\n",
    "    methods = {\n",
    "        'dbscan': {\n",
    "            'tune': cb.tune_dbscan,\n",
    "            'train': cb.train_dbscan,\n",
    "            'test': cb.test_dbscan\n",
    "        },\n",
    "        'knn': {\n",
    "            'tune': cb.tune_knn,\n",
    "            'train': cb.train_knn,\n",
    "            'test': cb.test_knn\n",
    "        }\n",
    "    }\n",
    "    norm_data = pd.DataFrame()\n",
    "    abnorm_data = pd.DataFrame()\n",
    "\n",
    "    cb.reset()\n",
    "    data = data.drop('Step', axis = 1, errors='ignore').dropna()\n",
    "    bootstrap = data.iloc[:bootstrap_n]\n",
    "    norm_i, abnorm_i = methods[method]['tune'](bootstrap.\\\n",
    "                        drop(labels=output_label, axis=1, errors='ignore'))\n",
    "    train_data = bootstrap.iloc[sorted(norm_i)]\n",
    "    norm_data = norm_data.append(train_data)\n",
    "    abnorm_data = abnorm_data.append(bootstrap.iloc[abnorm_i])\n",
    "    methods[method]['train'](train_data.\\\n",
    "                             drop(labels=output_label, axis=1, errors='ignore'))\n",
    "\n",
    "    for i in range(bootstrap_n, data.shape[0]):\n",
    "        if method == 'dbscan':\n",
    "            methods[method]['test'](train_data.\\\n",
    "            drop(labels=output_label, axis=1, errors='ignore'),\\\n",
    "            data.iloc[i].drop(labels=output_label, errors='ignore'))\n",
    "        else:\n",
    "            methods[method]['test'](data.iloc[i].\\\n",
    "            drop(labels=output_label, errors='ignore'))\n",
    "\n",
    "        if cb.alert:\n",
    "            abnorm_data = abnorm_data.append(data.iloc[i])\n",
    "            cb.reset()\n",
    "        else:\n",
    "            train_data = train_data.append(data.iloc[i])\n",
    "            if method != 'dbscan':\n",
    "                methods[method]['train'](train_data.\\\n",
    "                drop(labels=output_label, axis=1, errors='ignore'))\n",
    "            norm_data = norm_data.append(data.iloc[i])\n",
    "\n",
    "        print(i, data.shape[0] - i)\n",
    "    \n",
    "    return norm_data, abnorm_data"
   ]
  },
  {
   "cell_type": "code",
   "execution_count": 60,
   "metadata": {},
   "outputs": [],
   "source": [
    "def train_nn_detection(data, cb = trading_cb, bootstrap_n = 1260):\n",
    "    norm_data = pd.DataFrame()\n",
    "    abnorm_data = pd.DataFrame()\n",
    "\n",
    "    cb.reset()\n",
    "    data = data.drop('Step', axis = 1, errors='ignore').dropna()\n",
    "    bootstrap = data.iloc[:bootstrap_n]\n",
    "    warmup_preds = cb.tune_nn(bootstrap.\\\n",
    "                    drop(labels=[output_label, 'abnorm'], axis=1, errors='ignore'), \\\n",
    "                    bootstrap['abnorm'])\n",
    "    for i in range(len(bootstrap)):\n",
    "        if warmup_preds[i]:\n",
    "            abnorm_data = abnorm_data.append(bootstrap.iloc[i])\n",
    "        else:\n",
    "            norm_data = norm_data.append(bootstrap.iloc[i])\n",
    "\n",
    "    cb.train_nn(bootstrap.\\\n",
    "                drop(labels=[output_label, 'abnorm'], axis=1, errors='ignore'), \\\n",
    "                bootstrap['abnorm'])\n",
    "\n",
    "    for i in range(bootstrap_n, len(data)):\n",
    "        cb.test_nn(data.iloc[i].\\\n",
    "                   drop(labels=[output_label, 'abnorm'], errors='ignore'))\n",
    "        cb.train_nn(data.iloc[:i].\\\n",
    "                    drop(labels=[output_label, 'abnorm'], axis=1, errors='ignore'), \\\n",
    "                    data['abnorm'].iloc[:i])\n",
    "\n",
    "        if cb.alert:\n",
    "            abnorm_data = abnorm_data.append(data.iloc[i])\n",
    "            cb.reset()\n",
    "        else:\n",
    "            norm_data = norm_data.append(data.iloc[i])\n",
    "\n",
    "        print(i, data.shape[0] - i)\n",
    "    \n",
    "    return norm_data.drop(labels='abnorm', axis=1, errors='ignore'),\\\n",
    "            abnorm_data.drop(labels='abnorm', axis=1, errors='ignore')"
   ]
  },
  {
   "cell_type": "code",
   "execution_count": 53,
   "metadata": {},
   "outputs": [],
   "source": [
    "def label_data(norm, abnorm):\n",
    "    norm = norm.copy()\n",
    "    abnorm = abnorm.copy()\n",
    "    norm['abnorm'] = 0\n",
    "    abnorm['abnorm'] = 1\n",
    "    return pd.concat([norm, abnorm]).sort_index()"
   ]
  },
  {
   "cell_type": "code",
   "execution_count": 11,
   "metadata": {},
   "outputs": [],
   "source": [
    "def print_ratio(method, norm, abnorm):\n",
    "    print('%s \\nNormal: %d, Abnormal: %d, Ratio: %3f' % \\\n",
    "          (method, len(norm), len(abnorm), len(abnorm) / len(norm + abnorm)))"
   ]
  },
  {
   "cell_type": "code",
   "execution_count": 108,
   "metadata": {},
   "outputs": [],
   "source": [
    "def print_stats(metric, method_1, method_2, data_1, data_2):\n",
    "    if not data_1.empty:\n",
    "        rmse_1 = rmse(data_1['Obs'], data_1['Pred'])\n",
    "        sharpe_1 = sharpe(data_1['Obs'], data_1['Pred'])\n",
    "    else:\n",
    "        rmse_1 = 'N/A'\n",
    "        sharpe_1 = 'N/A'\n",
    "        \n",
    "    if not data_2.empty:\n",
    "        rmse_2 = rmse(data_2['Obs'], data_2['Pred'])\n",
    "        sharpe_2 = sharpe(data_2['Obs'], data_2['Pred'])\n",
    "    else:\n",
    "        rmse_2 = 'N/A'\n",
    "        sharpe_2 = 'N/A'\n",
    "    \n",
    "    print('{}\\t\\t{}\\t\\t{}'.format(metric, method_1, method_2))\n",
    "    print('RMSE\\t\\t{}\\t{}'.format(rmse_1, rmse_2))\n",
    "    print('Sharpe\\t\\t{}\\t{}'.format(sharpe_1, sharpe_2))"
   ]
  },
  {
   "cell_type": "code",
   "execution_count": 13,
   "metadata": {},
   "outputs": [],
   "source": [
    "trading_cb = cb()\n",
    "\n",
    "# params\n",
    "n_lags = 252\n",
    "output_label = \"lag_0\"\n",
    "data_path = \"SPX Index.csv\"\n",
    "warmup_period = 1260\n",
    "test_size = 1\n",
    "stride_size = 1\n",
    "perf_metrics_labels = [\"RMSE\", \"Sharpe\"]\n",
    "perf_metrics_funcs = [rmse, sharpe]\n",
    "\n",
    "# dataset\n",
    "ts = pd.read_csv(data_path, index_col=0)\n",
    "ts_data = ts_df(ts, n_lags)"
   ]
  },
  {
   "cell_type": "markdown",
   "metadata": {},
   "source": [
    "# Original Training"
   ]
  },
  {
   "cell_type": "code",
   "execution_count": 16,
   "metadata": {
    "scrolled": true
   },
   "outputs": [
    {
     "data": {
      "text/html": [
       "<div>\n",
       "<style>\n",
       "    .dataframe thead tr:only-child th {\n",
       "        text-align: right;\n",
       "    }\n",
       "\n",
       "    .dataframe thead th {\n",
       "        text-align: left;\n",
       "    }\n",
       "\n",
       "    .dataframe tbody tr th {\n",
       "        vertical-align: top;\n",
       "    }\n",
       "</style>\n",
       "<table border=\"1\" class=\"dataframe\">\n",
       "  <thead>\n",
       "    <tr style=\"text-align: right;\">\n",
       "      <th></th>\n",
       "      <th>Step</th>\n",
       "      <th>Obs</th>\n",
       "      <th>Pred</th>\n",
       "      <th>RMSE</th>\n",
       "      <th>Sharpe</th>\n",
       "    </tr>\n",
       "    <tr>\n",
       "      <th>ticker</th>\n",
       "      <th></th>\n",
       "      <th></th>\n",
       "      <th></th>\n",
       "      <th></th>\n",
       "      <th></th>\n",
       "    </tr>\n",
       "  </thead>\n",
       "  <tbody>\n",
       "    <tr>\n",
       "      <th>2006-01-06</th>\n",
       "      <td>NaN</td>\n",
       "      <td>0.00935554</td>\n",
       "      <td>0.0047957</td>\n",
       "      <td>0.0125905</td>\n",
       "      <td>0.000217522</td>\n",
       "    </tr>\n",
       "    <tr>\n",
       "      <th>2006-01-09</th>\n",
       "      <td>NaN</td>\n",
       "      <td>0.00364964</td>\n",
       "      <td>-0.00407336</td>\n",
       "      <td>0.0125723</td>\n",
       "      <td>4.81202e-07</td>\n",
       "    </tr>\n",
       "    <tr>\n",
       "      <th>2006-01-10</th>\n",
       "      <td>NaN</td>\n",
       "      <td>-0.000356611</td>\n",
       "      <td>-0.00161151</td>\n",
       "      <td>0.0124997</td>\n",
       "      <td>0.000318508</td>\n",
       "    </tr>\n",
       "    <tr>\n",
       "      <th>2006-01-11</th>\n",
       "      <td>NaN</td>\n",
       "      <td>0.00347541</td>\n",
       "      <td>0.000597107</td>\n",
       "      <td>0.0124984</td>\n",
       "      <td>0.000186046</td>\n",
       "    </tr>\n",
       "    <tr>\n",
       "      <th>2006-01-12</th>\n",
       "      <td>NaN</td>\n",
       "      <td>-0.00629401</td>\n",
       "      <td>-0.00648204</td>\n",
       "      <td>0.012474</td>\n",
       "      <td>1.74342e-06</td>\n",
       "    </tr>\n",
       "    <tr>\n",
       "      <th>2006-01-13</th>\n",
       "      <td>NaN</td>\n",
       "      <td>0.00120451</td>\n",
       "      <td>0.00218208</td>\n",
       "      <td>0.0124795</td>\n",
       "      <td>9.68797e-06</td>\n",
       "    </tr>\n",
       "    <tr>\n",
       "      <th>2006-01-17</th>\n",
       "      <td>NaN</td>\n",
       "      <td>-0.00364126</td>\n",
       "      <td>-0.00200913</td>\n",
       "      <td>0.0124804</td>\n",
       "      <td>1.74527e-05</td>\n",
       "    </tr>\n",
       "    <tr>\n",
       "      <th>2006-01-18</th>\n",
       "      <td>NaN</td>\n",
       "      <td>-0.00390494</td>\n",
       "      <td>0.00156844</td>\n",
       "      <td>0.0124774</td>\n",
       "      <td>9.18383e-05</td>\n",
       "    </tr>\n",
       "    <tr>\n",
       "      <th>2006-01-19</th>\n",
       "      <td>NaN</td>\n",
       "      <td>0.00554826</td>\n",
       "      <td>-0.00139697</td>\n",
       "      <td>0.0124719</td>\n",
       "      <td>0.000237278</td>\n",
       "    </tr>\n",
       "    <tr>\n",
       "      <th>2006-01-20</th>\n",
       "      <td>NaN</td>\n",
       "      <td>-0.0184963</td>\n",
       "      <td>-0.00470472</td>\n",
       "      <td>0.0124731</td>\n",
       "      <td>0.000109984</td>\n",
       "    </tr>\n",
       "    <tr>\n",
       "      <th>2006-01-23</th>\n",
       "      <td>NaN</td>\n",
       "      <td>0.00184532</td>\n",
       "      <td>-0.00329387</td>\n",
       "      <td>0.0124913</td>\n",
       "      <td>0.000424669</td>\n",
       "    </tr>\n",
       "    <tr>\n",
       "      <th>2006-01-24</th>\n",
       "      <td>NaN</td>\n",
       "      <td>0.00240252</td>\n",
       "      <td>0.00285195</td>\n",
       "      <td>0.0124906</td>\n",
       "      <td>0.000429493</td>\n",
       "    </tr>\n",
       "    <tr>\n",
       "      <th>2006-01-25</th>\n",
       "      <td>NaN</td>\n",
       "      <td>-0.00172227</td>\n",
       "      <td>-0.00176228</td>\n",
       "      <td>0.0124852</td>\n",
       "      <td>0.000645177</td>\n",
       "    </tr>\n",
       "    <tr>\n",
       "      <th>2006-01-26</th>\n",
       "      <td>NaN</td>\n",
       "      <td>0.00720898</td>\n",
       "      <td>0.00508233</td>\n",
       "      <td>0.012488</td>\n",
       "      <td>0.000597142</td>\n",
       "    </tr>\n",
       "    <tr>\n",
       "      <th>2006-01-27</th>\n",
       "      <td>NaN</td>\n",
       "      <td>0.007734</td>\n",
       "      <td>-0.000510618</td>\n",
       "      <td>0.0124978</td>\n",
       "      <td>0.000464693</td>\n",
       "    </tr>\n",
       "    <tr>\n",
       "      <th>2006-01-30</th>\n",
       "      <td>NaN</td>\n",
       "      <td>0.00115224</td>\n",
       "      <td>-0.000764345</td>\n",
       "      <td>0.0124958</td>\n",
       "      <td>0.000560795</td>\n",
       "    </tr>\n",
       "    <tr>\n",
       "      <th>2006-01-31</th>\n",
       "      <td>NaN</td>\n",
       "      <td>-0.00399177</td>\n",
       "      <td>-0.0021073</td>\n",
       "      <td>0.0125003</td>\n",
       "      <td>0.000593109</td>\n",
       "    </tr>\n",
       "    <tr>\n",
       "      <th>2006-02-01</th>\n",
       "      <td>NaN</td>\n",
       "      <td>0.00185753</td>\n",
       "      <td>0.00371379</td>\n",
       "      <td>0.0125029</td>\n",
       "      <td>0.000572751</td>\n",
       "    </tr>\n",
       "    <tr>\n",
       "      <th>2006-02-02</th>\n",
       "      <td>NaN</td>\n",
       "      <td>-0.00910201</td>\n",
       "      <td>0.00242487</td>\n",
       "      <td>0.0125062</td>\n",
       "      <td>0.000501305</td>\n",
       "    </tr>\n",
       "    <tr>\n",
       "      <th>2006-02-03</th>\n",
       "      <td>NaN</td>\n",
       "      <td>-0.00537307</td>\n",
       "      <td>0.00606358</td>\n",
       "      <td>0.0125074</td>\n",
       "      <td>0.000832636</td>\n",
       "    </tr>\n",
       "    <tr>\n",
       "      <th>2006-02-06</th>\n",
       "      <td>NaN</td>\n",
       "      <td>0.000782903</td>\n",
       "      <td>0.000781019</td>\n",
       "      <td>0.0125026</td>\n",
       "      <td>0.00115043</td>\n",
       "    </tr>\n",
       "    <tr>\n",
       "      <th>2006-02-07</th>\n",
       "      <td>NaN</td>\n",
       "      <td>-0.00812767</td>\n",
       "      <td>-0.00268034</td>\n",
       "      <td>0.0125009</td>\n",
       "      <td>0.00098025</td>\n",
       "    </tr>\n",
       "    <tr>\n",
       "      <th>2006-02-08</th>\n",
       "      <td>NaN</td>\n",
       "      <td>0.00862557</td>\n",
       "      <td>0.00228472</td>\n",
       "      <td>0.0125024</td>\n",
       "      <td>0.00135694</td>\n",
       "    </tr>\n",
       "    <tr>\n",
       "      <th>2006-02-09</th>\n",
       "      <td>NaN</td>\n",
       "      <td>-0.00147859</td>\n",
       "      <td>-0.00809213</td>\n",
       "      <td>0.0124997</td>\n",
       "      <td>0.000682223</td>\n",
       "    </tr>\n",
       "    <tr>\n",
       "      <th>2006-02-10</th>\n",
       "      <td>NaN</td>\n",
       "      <td>0.00253678</td>\n",
       "      <td>0.00251175</td>\n",
       "      <td>0.0124979</td>\n",
       "      <td>0.000794607</td>\n",
       "    </tr>\n",
       "    <tr>\n",
       "      <th>2006-02-13</th>\n",
       "      <td>NaN</td>\n",
       "      <td>-0.00326502</td>\n",
       "      <td>-0.000444755</td>\n",
       "      <td>0.0124984</td>\n",
       "      <td>0.000704158</td>\n",
       "    </tr>\n",
       "    <tr>\n",
       "      <th>2006-02-14</th>\n",
       "      <td>NaN</td>\n",
       "      <td>0.00998279</td>\n",
       "      <td>-0.000663124</td>\n",
       "      <td>0.0124983</td>\n",
       "      <td>0.00059628</td>\n",
       "    </tr>\n",
       "    <tr>\n",
       "      <th>2006-02-15</th>\n",
       "      <td>NaN</td>\n",
       "      <td>0.0034983</td>\n",
       "      <td>0.00291091</td>\n",
       "      <td>0.0125042</td>\n",
       "      <td>0.000316448</td>\n",
       "    </tr>\n",
       "    <tr>\n",
       "      <th>2006-02-16</th>\n",
       "      <td>NaN</td>\n",
       "      <td>0.0073014</td>\n",
       "      <td>0.00233387</td>\n",
       "      <td>0.0124937</td>\n",
       "      <td>0.000119203</td>\n",
       "    </tr>\n",
       "    <tr>\n",
       "      <th>2006-02-17</th>\n",
       "      <td>NaN</td>\n",
       "      <td>-0.00166109</td>\n",
       "      <td>-0.00347169</td>\n",
       "      <td>0.012498</td>\n",
       "      <td>0.000161694</td>\n",
       "    </tr>\n",
       "    <tr>\n",
       "      <th>...</th>\n",
       "      <td>...</td>\n",
       "      <td>...</td>\n",
       "      <td>...</td>\n",
       "      <td>...</td>\n",
       "      <td>...</td>\n",
       "    </tr>\n",
       "    <tr>\n",
       "      <th>3029</th>\n",
       "      <td>3029</td>\n",
       "      <td>NaN</td>\n",
       "      <td>NaN</td>\n",
       "      <td>NaN</td>\n",
       "      <td>NaN</td>\n",
       "    </tr>\n",
       "    <tr>\n",
       "      <th>3030</th>\n",
       "      <td>3030</td>\n",
       "      <td>NaN</td>\n",
       "      <td>NaN</td>\n",
       "      <td>NaN</td>\n",
       "      <td>NaN</td>\n",
       "    </tr>\n",
       "    <tr>\n",
       "      <th>3031</th>\n",
       "      <td>3031</td>\n",
       "      <td>NaN</td>\n",
       "      <td>NaN</td>\n",
       "      <td>NaN</td>\n",
       "      <td>NaN</td>\n",
       "    </tr>\n",
       "    <tr>\n",
       "      <th>3032</th>\n",
       "      <td>3032</td>\n",
       "      <td>NaN</td>\n",
       "      <td>NaN</td>\n",
       "      <td>NaN</td>\n",
       "      <td>NaN</td>\n",
       "    </tr>\n",
       "    <tr>\n",
       "      <th>3033</th>\n",
       "      <td>3033</td>\n",
       "      <td>NaN</td>\n",
       "      <td>NaN</td>\n",
       "      <td>NaN</td>\n",
       "      <td>NaN</td>\n",
       "    </tr>\n",
       "    <tr>\n",
       "      <th>3034</th>\n",
       "      <td>3034</td>\n",
       "      <td>NaN</td>\n",
       "      <td>NaN</td>\n",
       "      <td>NaN</td>\n",
       "      <td>NaN</td>\n",
       "    </tr>\n",
       "    <tr>\n",
       "      <th>3035</th>\n",
       "      <td>3035</td>\n",
       "      <td>NaN</td>\n",
       "      <td>NaN</td>\n",
       "      <td>NaN</td>\n",
       "      <td>NaN</td>\n",
       "    </tr>\n",
       "    <tr>\n",
       "      <th>3036</th>\n",
       "      <td>3036</td>\n",
       "      <td>NaN</td>\n",
       "      <td>NaN</td>\n",
       "      <td>NaN</td>\n",
       "      <td>NaN</td>\n",
       "    </tr>\n",
       "    <tr>\n",
       "      <th>3037</th>\n",
       "      <td>3037</td>\n",
       "      <td>NaN</td>\n",
       "      <td>NaN</td>\n",
       "      <td>NaN</td>\n",
       "      <td>NaN</td>\n",
       "    </tr>\n",
       "    <tr>\n",
       "      <th>3038</th>\n",
       "      <td>3038</td>\n",
       "      <td>NaN</td>\n",
       "      <td>NaN</td>\n",
       "      <td>NaN</td>\n",
       "      <td>NaN</td>\n",
       "    </tr>\n",
       "    <tr>\n",
       "      <th>3039</th>\n",
       "      <td>3039</td>\n",
       "      <td>NaN</td>\n",
       "      <td>NaN</td>\n",
       "      <td>NaN</td>\n",
       "      <td>NaN</td>\n",
       "    </tr>\n",
       "    <tr>\n",
       "      <th>3040</th>\n",
       "      <td>3040</td>\n",
       "      <td>NaN</td>\n",
       "      <td>NaN</td>\n",
       "      <td>NaN</td>\n",
       "      <td>NaN</td>\n",
       "    </tr>\n",
       "    <tr>\n",
       "      <th>3041</th>\n",
       "      <td>3041</td>\n",
       "      <td>NaN</td>\n",
       "      <td>NaN</td>\n",
       "      <td>NaN</td>\n",
       "      <td>NaN</td>\n",
       "    </tr>\n",
       "    <tr>\n",
       "      <th>3042</th>\n",
       "      <td>3042</td>\n",
       "      <td>NaN</td>\n",
       "      <td>NaN</td>\n",
       "      <td>NaN</td>\n",
       "      <td>NaN</td>\n",
       "    </tr>\n",
       "    <tr>\n",
       "      <th>3043</th>\n",
       "      <td>3043</td>\n",
       "      <td>NaN</td>\n",
       "      <td>NaN</td>\n",
       "      <td>NaN</td>\n",
       "      <td>NaN</td>\n",
       "    </tr>\n",
       "    <tr>\n",
       "      <th>3044</th>\n",
       "      <td>3044</td>\n",
       "      <td>NaN</td>\n",
       "      <td>NaN</td>\n",
       "      <td>NaN</td>\n",
       "      <td>NaN</td>\n",
       "    </tr>\n",
       "    <tr>\n",
       "      <th>3045</th>\n",
       "      <td>3045</td>\n",
       "      <td>NaN</td>\n",
       "      <td>NaN</td>\n",
       "      <td>NaN</td>\n",
       "      <td>NaN</td>\n",
       "    </tr>\n",
       "    <tr>\n",
       "      <th>3046</th>\n",
       "      <td>3046</td>\n",
       "      <td>NaN</td>\n",
       "      <td>NaN</td>\n",
       "      <td>NaN</td>\n",
       "      <td>NaN</td>\n",
       "    </tr>\n",
       "    <tr>\n",
       "      <th>3047</th>\n",
       "      <td>3047</td>\n",
       "      <td>NaN</td>\n",
       "      <td>NaN</td>\n",
       "      <td>NaN</td>\n",
       "      <td>NaN</td>\n",
       "    </tr>\n",
       "    <tr>\n",
       "      <th>3048</th>\n",
       "      <td>3048</td>\n",
       "      <td>NaN</td>\n",
       "      <td>NaN</td>\n",
       "      <td>NaN</td>\n",
       "      <td>NaN</td>\n",
       "    </tr>\n",
       "    <tr>\n",
       "      <th>3049</th>\n",
       "      <td>3049</td>\n",
       "      <td>NaN</td>\n",
       "      <td>NaN</td>\n",
       "      <td>NaN</td>\n",
       "      <td>NaN</td>\n",
       "    </tr>\n",
       "    <tr>\n",
       "      <th>3050</th>\n",
       "      <td>3050</td>\n",
       "      <td>NaN</td>\n",
       "      <td>NaN</td>\n",
       "      <td>NaN</td>\n",
       "      <td>NaN</td>\n",
       "    </tr>\n",
       "    <tr>\n",
       "      <th>3051</th>\n",
       "      <td>3051</td>\n",
       "      <td>NaN</td>\n",
       "      <td>NaN</td>\n",
       "      <td>NaN</td>\n",
       "      <td>NaN</td>\n",
       "    </tr>\n",
       "    <tr>\n",
       "      <th>3052</th>\n",
       "      <td>3052</td>\n",
       "      <td>NaN</td>\n",
       "      <td>NaN</td>\n",
       "      <td>NaN</td>\n",
       "      <td>NaN</td>\n",
       "    </tr>\n",
       "    <tr>\n",
       "      <th>3053</th>\n",
       "      <td>3053</td>\n",
       "      <td>NaN</td>\n",
       "      <td>NaN</td>\n",
       "      <td>NaN</td>\n",
       "      <td>NaN</td>\n",
       "    </tr>\n",
       "    <tr>\n",
       "      <th>3054</th>\n",
       "      <td>3054</td>\n",
       "      <td>NaN</td>\n",
       "      <td>NaN</td>\n",
       "      <td>NaN</td>\n",
       "      <td>NaN</td>\n",
       "    </tr>\n",
       "    <tr>\n",
       "      <th>3055</th>\n",
       "      <td>3055</td>\n",
       "      <td>NaN</td>\n",
       "      <td>NaN</td>\n",
       "      <td>NaN</td>\n",
       "      <td>NaN</td>\n",
       "    </tr>\n",
       "    <tr>\n",
       "      <th>3056</th>\n",
       "      <td>3056</td>\n",
       "      <td>NaN</td>\n",
       "      <td>NaN</td>\n",
       "      <td>NaN</td>\n",
       "      <td>NaN</td>\n",
       "    </tr>\n",
       "    <tr>\n",
       "      <th>3057</th>\n",
       "      <td>3057</td>\n",
       "      <td>NaN</td>\n",
       "      <td>NaN</td>\n",
       "      <td>NaN</td>\n",
       "      <td>NaN</td>\n",
       "    </tr>\n",
       "    <tr>\n",
       "      <th>3058</th>\n",
       "      <td>3058</td>\n",
       "      <td>NaN</td>\n",
       "      <td>NaN</td>\n",
       "      <td>NaN</td>\n",
       "      <td>NaN</td>\n",
       "    </tr>\n",
       "  </tbody>\n",
       "</table>\n",
       "<p>6118 rows × 5 columns</p>\n",
       "</div>"
      ],
      "text/plain": [
       "            Step          Obs         Pred       RMSE       Sharpe\n",
       "ticker                                                            \n",
       "2006-01-06   NaN   0.00935554    0.0047957  0.0125905  0.000217522\n",
       "2006-01-09   NaN   0.00364964  -0.00407336  0.0125723  4.81202e-07\n",
       "2006-01-10   NaN -0.000356611  -0.00161151  0.0124997  0.000318508\n",
       "2006-01-11   NaN   0.00347541  0.000597107  0.0124984  0.000186046\n",
       "2006-01-12   NaN  -0.00629401  -0.00648204   0.012474  1.74342e-06\n",
       "2006-01-13   NaN   0.00120451   0.00218208  0.0124795  9.68797e-06\n",
       "2006-01-17   NaN  -0.00364126  -0.00200913  0.0124804  1.74527e-05\n",
       "2006-01-18   NaN  -0.00390494   0.00156844  0.0124774  9.18383e-05\n",
       "2006-01-19   NaN   0.00554826  -0.00139697  0.0124719  0.000237278\n",
       "2006-01-20   NaN   -0.0184963  -0.00470472  0.0124731  0.000109984\n",
       "2006-01-23   NaN   0.00184532  -0.00329387  0.0124913  0.000424669\n",
       "2006-01-24   NaN   0.00240252   0.00285195  0.0124906  0.000429493\n",
       "2006-01-25   NaN  -0.00172227  -0.00176228  0.0124852  0.000645177\n",
       "2006-01-26   NaN   0.00720898   0.00508233   0.012488  0.000597142\n",
       "2006-01-27   NaN     0.007734 -0.000510618  0.0124978  0.000464693\n",
       "2006-01-30   NaN   0.00115224 -0.000764345  0.0124958  0.000560795\n",
       "2006-01-31   NaN  -0.00399177   -0.0021073  0.0125003  0.000593109\n",
       "2006-02-01   NaN   0.00185753   0.00371379  0.0125029  0.000572751\n",
       "2006-02-02   NaN  -0.00910201   0.00242487  0.0125062  0.000501305\n",
       "2006-02-03   NaN  -0.00537307   0.00606358  0.0125074  0.000832636\n",
       "2006-02-06   NaN  0.000782903  0.000781019  0.0125026   0.00115043\n",
       "2006-02-07   NaN  -0.00812767  -0.00268034  0.0125009   0.00098025\n",
       "2006-02-08   NaN   0.00862557   0.00228472  0.0125024   0.00135694\n",
       "2006-02-09   NaN  -0.00147859  -0.00809213  0.0124997  0.000682223\n",
       "2006-02-10   NaN   0.00253678   0.00251175  0.0124979  0.000794607\n",
       "2006-02-13   NaN  -0.00326502 -0.000444755  0.0124984  0.000704158\n",
       "2006-02-14   NaN   0.00998279 -0.000663124  0.0124983   0.00059628\n",
       "2006-02-15   NaN    0.0034983   0.00291091  0.0125042  0.000316448\n",
       "2006-02-16   NaN    0.0073014   0.00233387  0.0124937  0.000119203\n",
       "2006-02-17   NaN  -0.00166109  -0.00347169   0.012498  0.000161694\n",
       "...          ...          ...          ...        ...          ...\n",
       "3029        3029          NaN          NaN        NaN          NaN\n",
       "3030        3030          NaN          NaN        NaN          NaN\n",
       "3031        3031          NaN          NaN        NaN          NaN\n",
       "3032        3032          NaN          NaN        NaN          NaN\n",
       "3033        3033          NaN          NaN        NaN          NaN\n",
       "3034        3034          NaN          NaN        NaN          NaN\n",
       "3035        3035          NaN          NaN        NaN          NaN\n",
       "3036        3036          NaN          NaN        NaN          NaN\n",
       "3037        3037          NaN          NaN        NaN          NaN\n",
       "3038        3038          NaN          NaN        NaN          NaN\n",
       "3039        3039          NaN          NaN        NaN          NaN\n",
       "3040        3040          NaN          NaN        NaN          NaN\n",
       "3041        3041          NaN          NaN        NaN          NaN\n",
       "3042        3042          NaN          NaN        NaN          NaN\n",
       "3043        3043          NaN          NaN        NaN          NaN\n",
       "3044        3044          NaN          NaN        NaN          NaN\n",
       "3045        3045          NaN          NaN        NaN          NaN\n",
       "3046        3046          NaN          NaN        NaN          NaN\n",
       "3047        3047          NaN          NaN        NaN          NaN\n",
       "3048        3048          NaN          NaN        NaN          NaN\n",
       "3049        3049          NaN          NaN        NaN          NaN\n",
       "3050        3050          NaN          NaN        NaN          NaN\n",
       "3051        3051          NaN          NaN        NaN          NaN\n",
       "3052        3052          NaN          NaN        NaN          NaN\n",
       "3053        3053          NaN          NaN        NaN          NaN\n",
       "3054        3054          NaN          NaN        NaN          NaN\n",
       "3055        3055          NaN          NaN        NaN          NaN\n",
       "3056        3056          NaN          NaN        NaN          NaN\n",
       "3057        3057          NaN          NaN        NaN          NaN\n",
       "3058        3058          NaN          NaN        NaN          NaN\n",
       "\n",
       "[6118 rows x 5 columns]"
      ]
     },
     "execution_count": 16,
     "metadata": {},
     "output_type": "execute_result"
    }
   ],
   "source": [
    "df_results"
   ]
  },
  {
   "cell_type": "code",
   "execution_count": null,
   "metadata": {},
   "outputs": [],
   "source": [
    "df_results = train_strat(LinearRegression(), ts_data, warmup_period)"
   ]
  },
  {
   "cell_type": "code",
   "execution_count": 17,
   "metadata": {
    "scrolled": true
   },
   "outputs": [
    {
     "data": {
      "image/png": "[encoded data removed]",
      "text/plain": [
       "<matplotlib.figure.Figure at 0x1103e3518>"
      ]
     },
     "metadata": {},
     "output_type": "display_data"
    },
    {
     "data": {
      "text/plain": [
       "array([<matplotlib.axes._subplots.AxesSubplot object at 0x110415ef0>,\n",
       "       <matplotlib.axes._subplots.AxesSubplot object at 0x1111e66d8>],\n",
       "      dtype=object)"
      ]
     },
     "execution_count": 17,
     "metadata": {},
     "output_type": "execute_result"
    }
   ],
   "source": [
    "plot_perf(df_results, 'All data')"
   ]
  },
  {
   "cell_type": "markdown",
   "metadata": {},
   "source": [
    "# Input detection"
   ]
  },
  {
   "cell_type": "markdown",
   "metadata": {},
   "source": [
    "Trains detection algorithms on the input data to the trading strategy and classifies the data as normal or abnormal. The trading strategy is then trained again but only normal data in order to compare the error and the Sharpe ratios of the strategies trained with all the data versus just what the algorithms deem as normal data."
   ]
  },
  {
   "cell_type": "markdown",
   "metadata": {},
   "source": [
    "## kNN"
   ]
  },
  {
   "cell_type": "code",
   "execution_count": null,
   "metadata": {},
   "outputs": [],
   "source": [
    "in_knn_norm, in_knn_abnorm = train_detection(ts_data, 'knn')"
   ]
  },
  {
   "cell_type": "code",
   "execution_count": 22,
   "metadata": {
    "scrolled": false
   },
   "outputs": [
    {
     "name": "stdout",
     "output_type": "stream",
     "text": [
      "kNN \n",
      "Normal: 2894, Abnormal: 1425, Ratio: 0.329937\n"
     ]
    }
   ],
   "source": [
    "print_ratio('kNN', in_knn_norm, in_knn_abnorm)"
   ]
  },
  {
   "cell_type": "code",
   "execution_count": null,
   "metadata": {},
   "outputs": [],
   "source": [
    "knn_results = train_strat(LinearRegression(), in_knn_norm, \\\n",
    "                          int(len(in_knn_norm) * 0.2))"
   ]
  },
  {
   "cell_type": "code",
   "execution_count": 25,
   "metadata": {
    "scrolled": true
   },
   "outputs": [
    {
     "data": {
      "image/png": "[encoded data removed]",
      "text/plain": [
       "<matplotlib.figure.Figure at 0x104067240>"
      ]
     },
     "metadata": {},
     "output_type": "display_data"
    }
   ],
   "source": [
    "fig, axs = plt.subplots(1, 2, figsize=(15,4))        \n",
    "axs[0].set_title('Error')\n",
    "axs[0].set_xlabel('Time')\n",
    "axs[1].set_title('Sharpe')\n",
    "axs[1].set_xlabel('Time')\n",
    "\n",
    "error = list(map(rmse, df_results['Obs'].values, df_results['Pred'].values))\n",
    "axs[0].bar(pd.to_datetime(df_results.index), error, label='All data')\n",
    "axs[0].legend()\n",
    "\n",
    "axs[1].bar(pd.to_datetime(df_results.index), df_results['Sharpe'], label='All data')\n",
    "axs[1].legend()\n",
    "\n",
    "error = list(map(rmse, knn_results['Obs'].values, knn_results['Pred'].values))\n",
    "axs[0].bar(pd.to_datetime(knn_results.index), error, label='kNN')\n",
    "axs[0].legend()\n",
    "\n",
    "axs[1].bar(pd.to_datetime(knn_results.index), knn_results['Sharpe'], label='kNN')\n",
    "axs[1].legend()\n",
    "\n",
    "plt.show()"
   ]
  },
  {
   "cell_type": "code",
   "execution_count": 46,
   "metadata": {
    "scrolled": true
   },
   "outputs": [
    {
     "name": "stdout",
     "output_type": "stream",
     "text": [
      "Metrics\t\tAll data\t\tkNN\n",
      "RMSE\t\t0.015653\t0.012568\n",
      "Sharpe\t\t-0.379274\t-0.557930\n"
     ]
    }
   ],
   "source": [
    "print_stats('Metrics', 'All data', 'kNN', df_results, knn_results)"
   ]
  },
  {
   "cell_type": "markdown",
   "metadata": {},
   "source": [
    "## DBSCAN"
   ]
  },
  {
   "cell_type": "code",
   "execution_count": null,
   "metadata": {},
   "outputs": [],
   "source": [
    "in_dbscan_norm, in_dbscan_abnorm = train_detection(ts_data, 'dbscan')"
   ]
  },
  {
   "cell_type": "code",
   "execution_count": 67,
   "metadata": {},
   "outputs": [
    {
     "name": "stdout",
     "output_type": "stream",
     "text": [
      "DBSCAN \n",
      "Normal: 4019, Abnormal: 300, Ratio: 0.069461\n"
     ]
    }
   ],
   "source": [
    "print_ratio('DBSCAN', in_dbscan_norm, in_dbscan_abnorm)"
   ]
  },
  {
   "cell_type": "code",
   "execution_count": null,
   "metadata": {},
   "outputs": [],
   "source": [
    "dbscan_results = train_strat(LinearRegression(), in_dbscan_norm, \\\n",
    "                             int(len(in_dbscan_norm) * 0.2))"
   ]
  },
  {
   "cell_type": "code",
   "execution_count": 69,
   "metadata": {
    "scrolled": true
   },
   "outputs": [
    {
     "data": {
      "image/png": "[encoded data removed]",
      "text/plain": [
       "<matplotlib.figure.Figure at 0x138122828>"
      ]
     },
     "metadata": {},
     "output_type": "display_data"
    }
   ],
   "source": [
    "fig, axs = plt.subplots(1, 2, figsize=(15,4))        \n",
    "axs[0].set_title('Error')\n",
    "axs[0].set_xlabel('Time')\n",
    "axs[1].set_title('Sharpe')\n",
    "axs[1].set_xlabel('Time')\n",
    "\n",
    "error = list(map(rmse, df_results['Obs'].values, df_results['Pred'].values))\n",
    "axs[0].bar(pd.to_datetime(df_results.index), error, label='All data')\n",
    "axs[0].legend()\n",
    "\n",
    "axs[1].bar(pd.to_datetime(df_results.index), df_results['Sharpe'], label='All data')\n",
    "axs[1].legend()\n",
    "\n",
    "error = list(map(rmse, dbscan_results['Obs'].values, dbscan_results['Pred'].values))\n",
    "axs[0].bar(pd.to_datetime(dbscan_results.index), error, label='DBSCAN')\n",
    "axs[0].legend()\n",
    "\n",
    "axs[1].bar(pd.to_datetime(dbscan_results.index), dbscan_results['Sharpe'], \\\n",
    "           label='DBSCAN')\n",
    "axs[1].legend()\n",
    "\n",
    "plt.show()"
   ]
  },
  {
   "cell_type": "code",
   "execution_count": 75,
   "metadata": {},
   "outputs": [
    {
     "name": "stdout",
     "output_type": "stream",
     "text": [
      "Metrics\t\tAll data\t\tDBSCAN\n",
      "RMSE\t\t0.015653\t0.012583\n",
      "Sharpe\t\t-0.379274\t-0.167760\n"
     ]
    }
   ],
   "source": [
    "print_stats('Metrics', 'All data', 'DBSCAN', df_results, dbscan_results)"
   ]
  },
  {
   "cell_type": "markdown",
   "metadata": {},
   "source": [
    "## Neural networks"
   ]
  },
  {
   "cell_type": "markdown",
   "metadata": {},
   "source": [
    "### kNN"
   ]
  },
  {
   "cell_type": "code",
   "execution_count": null,
   "metadata": {},
   "outputs": [],
   "source": [
    "nn_knn_in_norm, nn_knn_in_abnorm = train_nn_detection(\\\n",
    "                                    label_data(in_knn_norm, in_knn_abnorm))"
   ]
  },
  {
   "cell_type": "code",
   "execution_count": 71,
   "metadata": {},
   "outputs": [
    {
     "name": "stdout",
     "output_type": "stream",
     "text": [
      "NN-kNN \n",
      "Normal: 2677, Abnormal: 1642, Ratio: 0.380181\n"
     ]
    }
   ],
   "source": [
    "print_ratio('NN-kNN', nn_knn_in_norm, nn_knn_in_abnorm)"
   ]
  },
  {
   "cell_type": "code",
   "execution_count": null,
   "metadata": {},
   "outputs": [],
   "source": [
    "nn_knn_results = train_strat(LinearRegression(), \\\n",
    "                             nn_knn_in_norm, int(len(nn_knn_in_norm) * 0.2))"
   ]
  },
  {
   "cell_type": "code",
   "execution_count": 73,
   "metadata": {},
   "outputs": [
    {
     "data": {
      "image/png": "[encoded data removed]",
      "text/plain": [
       "<matplotlib.figure.Figure at 0x11a2162e8>"
      ]
     },
     "metadata": {},
     "output_type": "display_data"
    }
   ],
   "source": [
    "fig, axs = plt.subplots(1, 2, figsize=(15,4))        \n",
    "axs[0].set_title('Error')\n",
    "axs[0].set_xlabel('Time')\n",
    "axs[1].set_title('Sharpe')\n",
    "axs[1].set_xlabel('Time')\n",
    "\n",
    "error = list(map(rmse, df_results['Obs'].values, df_results['Pred'].values))\n",
    "axs[0].bar(pd.to_datetime(df_results.index), error, label='All data')\n",
    "axs[0].legend()\n",
    "\n",
    "axs[1].bar(pd.to_datetime(df_results.index), df_results['Sharpe'], label='All data')\n",
    "axs[1].legend()\n",
    "\n",
    "error = list(map(rmse, nn_knn_results['Obs'].values, nn_knn_results['Pred'].values))\n",
    "axs[0].bar(pd.to_datetime(nn_knn_results.index), error, label='NN-kNN')\n",
    "axs[0].legend()\n",
    "\n",
    "axs[1].bar(pd.to_datetime(nn_knn_results.index), nn_knn_results['Sharpe'],\\\n",
    "           label='NN-kNN')\n",
    "axs[1].legend()\n",
    "\n",
    "plt.show()"
   ]
  },
  {
   "cell_type": "code",
   "execution_count": 74,
   "metadata": {},
   "outputs": [
    {
     "name": "stdout",
     "output_type": "stream",
     "text": [
      "Metrics\t\tAll data\t\tNN-kNN\n",
      "RMSE\t\t0.015653\t0.018409\n",
      "Sharpe\t\t-0.379274\t-0.258686\n"
     ]
    }
   ],
   "source": [
    "print_stats('Metrics', 'All data', 'NN-kNN', df_results, nn_knn_results)"
   ]
  },
  {
   "cell_type": "markdown",
   "metadata": {},
   "source": [
    "### DBSCAN"
   ]
  },
  {
   "cell_type": "code",
   "execution_count": null,
   "metadata": {},
   "outputs": [],
   "source": [
    "nn_dbscan_in_norm, nn_dbscan_in_abnorm = train_nn_detection(\\\n",
    "                label_data(in_dbscan_norm, in_dbscan_abnorm))"
   ]
  },
  {
   "cell_type": "code",
   "execution_count": 77,
   "metadata": {},
   "outputs": [
    {
     "name": "stdout",
     "output_type": "stream",
     "text": [
      "NN-DBSCAN \n",
      "Normal: 4206, Abnormal: 113, Ratio: 0.026163\n"
     ]
    }
   ],
   "source": [
    "print_ratio('NN-DBSCAN', nn_dbscan_in_norm, nn_dbscan_in_abnorm)"
   ]
  },
  {
   "cell_type": "code",
   "execution_count": null,
   "metadata": {},
   "outputs": [],
   "source": [
    "nn_dbscan_results = train_strat(LinearRegression(), \\\n",
    "                                nn_dbscan_in_norm, int(len(nn_dbscan_in_norm) * 0.2))"
   ]
  },
  {
   "cell_type": "code",
   "execution_count": 81,
   "metadata": {},
   "outputs": [
    {
     "data": {
      "image/png": "[encoded data removed]",
      "text/plain": [
       "<matplotlib.figure.Figure at 0x12397fe48>"
      ]
     },
     "metadata": {},
     "output_type": "display_data"
    }
   ],
   "source": [
    "fig, axs = plt.subplots(1, 2, figsize=(15,4))        \n",
    "axs[0].set_title('Error')\n",
    "axs[0].set_xlabel('Time')\n",
    "axs[1].set_title('Sharpe')\n",
    "axs[1].set_xlabel('Time')\n",
    "\n",
    "error = list(map(rmse, df_results['Obs'].values, df_results['Pred'].values))\n",
    "axs[0].bar(pd.to_datetime(df_results.index), error, label='All data')\n",
    "axs[0].legend()\n",
    "\n",
    "axs[1].bar(pd.to_datetime(df_results.index), df_results['Sharpe'], label='All data')\n",
    "axs[1].legend()\n",
    "\n",
    "error = list(map(rmse, nn_dbscan_results['Obs'].values, \\\n",
    "                 nn_dbscan_results['Pred'].values))\n",
    "axs[0].bar(pd.to_datetime(nn_dbscan_results.index), error, label='NN-DBSCAN')\n",
    "axs[0].legend()\n",
    "\n",
    "axs[1].bar(pd.to_datetime(nn_dbscan_results.index), \\\n",
    "           nn_dbscan_results['Sharpe'], label='NN-DBSCAN')\n",
    "axs[1].legend()\n",
    "\n",
    "plt.show()"
   ]
  },
  {
   "cell_type": "code",
   "execution_count": 80,
   "metadata": {},
   "outputs": [
    {
     "name": "stdout",
     "output_type": "stream",
     "text": [
      "Metrics\t\tAll data\t\tNN-DBSCAN\n",
      "RMSE\t\t0.015653\t0.015829\n",
      "Sharpe\t\t-0.379274\t-0.370101\n"
     ]
    }
   ],
   "source": [
    "print_stats('Metrics', 'All data', 'NN-DBSCAN', df_results, nn_dbscan_results)"
   ]
  },
  {
   "cell_type": "markdown",
   "metadata": {},
   "source": [
    "# Output Detection"
   ]
  },
  {
   "cell_type": "markdown",
   "metadata": {},
   "source": [
    "Trains detection algorithms on the output of the trading strategy algorithm where that is the predicted output, true output, RMSE and Sharpe ratio. Like with the input, they classify the outputs as normal or abnormal in order to predict whether the strategy behaved abnormally in response to the original input. The RMSEs and Sharpe ratios are then compared to show the difference between normal and abnormal data."
   ]
  },
  {
   "cell_type": "markdown",
   "metadata": {},
   "source": [
    "## kNN"
   ]
  },
  {
   "cell_type": "code",
   "execution_count": null,
   "metadata": {},
   "outputs": [],
   "source": [
    "out_knn_norm, out_knn_abnorm = train_detection(df_results, 'knn')"
   ]
  },
  {
   "cell_type": "code",
   "execution_count": 47,
   "metadata": {},
   "outputs": [
    {
     "name": "stdout",
     "output_type": "stream",
     "text": [
      "kNN \n",
      "Normal: 1887, Abnormal: 1172, Ratio: 0.383132\n",
      "\n",
      "kNN\t\tNormal\t\tAbnormal\n",
      "RMSE\t\t0.008168\t0.023067\n",
      "Sharpe\t\t0.369606\t-0.675498\n"
     ]
    }
   ],
   "source": [
    "print_ratio('kNN', out_knn_norm, out_knn_abnorm)\n",
    "print()\n",
    "print_stats('kNN', 'Normal', 'Abnormal', out_knn_norm, out_knn_abnorm)"
   ]
  },
  {
   "cell_type": "markdown",
   "metadata": {},
   "source": [
    "## DBSCAN"
   ]
  },
  {
   "cell_type": "code",
   "execution_count": null,
   "metadata": {},
   "outputs": [],
   "source": [
    "out_dbscan_norm, out_dbscan_abnorm = train_detection(df_results, 'dbscan')"
   ]
  },
  {
   "cell_type": "code",
   "execution_count": 49,
   "metadata": {},
   "outputs": [
    {
     "name": "stdout",
     "output_type": "stream",
     "text": [
      "DBSCAN \n",
      "Normal: 2865, Abnormal: 194, Ratio: 0.063419\n",
      "\n",
      "DBSCAN\t\tNormal\t\tAbnormal\n",
      "RMSE\t\t0.010895\t0.045938\n",
      "Sharpe\t\t0.225508\t-1.872746\n"
     ]
    }
   ],
   "source": [
    "print_ratio('DBSCAN', out_dbscan_norm, out_dbscan_abnorm)\n",
    "print()\n",
    "print_stats('DBSCAN', 'Normal', 'Abnormal', out_dbscan_norm, out_dbscan_abnorm)"
   ]
  },
  {
   "cell_type": "markdown",
   "metadata": {},
   "source": [
    "## Neural networks"
   ]
  },
  {
   "cell_type": "markdown",
   "metadata": {},
   "source": [
    "### kNN"
   ]
  },
  {
   "cell_type": "code",
   "execution_count": null,
   "metadata": {},
   "outputs": [],
   "source": [
    "nn_knn_out_norm, nn_knn_out_abnorm = train_nn_detection(\\\n",
    "                                    label_data(out_knn_norm, out_knn_abnorm))"
   ]
  },
  {
   "cell_type": "code",
   "execution_count": 106,
   "metadata": {},
   "outputs": [
    {
     "name": "stdout",
     "output_type": "stream",
     "text": [
      "NN-kNN \n",
      "Normal: 2336, Abnormal: 723, Ratio: 0.236352\n",
      "\n",
      "NN-kNN\t\tNormal\t\tAbnormal\n",
      "RMSE\t\t0.017283\t0.008461\n",
      "Sharpe\t\t-0.437646\t0.063159\n"
     ]
    }
   ],
   "source": [
    "print_ratio('NN-kNN', nn_knn_out_norm, nn_knn_out_abnorm)\n",
    "print()\n",
    "print_stats('NN-kNN', 'Normal', 'Abnormal', nn_knn_out_norm, nn_knn_out_abnorm)"
   ]
  },
  {
   "cell_type": "markdown",
   "metadata": {},
   "source": [
    "### DBSCAN"
   ]
  },
  {
   "cell_type": "code",
   "execution_count": null,
   "metadata": {},
   "outputs": [],
   "source": [
    "nn_dbscan_out_norm, nn_dbscan_out_abnorm = train_nn_detection(\\\n",
    "                                        label_data(out_dbscan_norm, out_dbscan_abnorm))"
   ]
  },
  {
   "cell_type": "code",
   "execution_count": 109,
   "metadata": {},
   "outputs": [
    {
     "name": "stdout",
     "output_type": "stream",
     "text": [
      "NN-DBSCAN \n",
      "Normal: 3059, Abnormal: 0, Ratio: 0.000000\n",
      "\n",
      "NN-DBSCAN\t\tNormal\t\tAbnormal\n",
      "RMSE\t\t0.015652916190749253\tN/A\n",
      "Sharpe\t\t-0.3792738036981321\tN/A\n"
     ]
    }
   ],
   "source": [
    "print_ratio('NN-DBSCAN', nn_dbscan_out_norm, nn_dbscan_out_abnorm)\n",
    "print()\n",
    "print_stats('NN-DBSCAN', 'Normal', 'Abnormal', nn_dbscan_out_norm, \\\n",
    "            nn_dbscan_out_abnorm)"
   ]
  }
 ],
 "metadata": {
  "kernelspec": {
   "display_name": "Python 3",
   "language": "python",
   "name": "python3"
  },
  "language_info": {
   "codemirror_mode": {
    "name": "ipython",
    "version": 3
   },
   "file_extension": ".py",
   "mimetype": "text/x-python",
   "name": "python",
   "nbconvert_exporter": "python",
   "pygments_lexer": "ipython3",
   "version": "3.5.3"
  }
 },
 "nbformat": 4,
 "nbformat_minor": 2
}
